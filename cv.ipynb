{
 "cells": [
  {
   "cell_type": "code",
   "id": "initial_id",
   "metadata": {
    "collapsed": true,
    "jupyter": {
     "is_executing": true
    },
    "ExecuteTime": {
     "start_time": "2025-01-08T09:05:28.603177Z"
    }
   },
   "source": [
    "import cv2\n",
    "import numpy\n",
    "import numpy as np\n",
    "\n",
    "# Load the image\n",
    "img = cv2.imread('chessboard.png')\n",
    "\n",
    "\n",
    "# Chessboard dimensions\n",
    "CHESSBOARD_CORNERS_ROWCOUNT = 9\n",
    "CHESSBOARD_CORNERS_COLCOUNT = 6\n",
    "\n",
    "# Get the perspective transform matrix\n",
    "intrinsics = np.array([[1.662707630210665e+03, 0, 1.141556460466331e+03],\n",
    "                       [0, 1.665176714774784e+03, 7.776969134949534e+02],\n",
    "                       [0, 0, 1]])\n",
    "\n",
    "dist = np.array([[0.106937435542469, -0.193726569015277, 0, 0, 0]])\n",
    "\n",
    "h,  w = img.shape[:2]\n",
    "newcameramtx, roi = cv2.getOptimalNewCameraMatrix(intrinsics, dist, (w,h), 1, (w,h))\n",
    "\n",
    "img = cv2.undistort(img, intrinsics, dist)\n",
    "# crop the image\n",
    "\n",
    "x, y, w, h = roi\n",
    "img = img[y:y+h, x:x+w]\n",
    "gray = cv2.cvtColor(img, cv2.COLOR_BGR2GRAY)\n",
    "# Find the chessboard corners\n",
    "ret, corners = cv2.findChessboardCorners(gray, (CHESSBOARD_CORNERS_ROWCOUNT, CHESSBOARD_CORNERS_COLCOUNT), None)\n",
    "corners_int = corners.astype(numpy.int8)\n",
    "# Bottom right corner has pixel value (90, 60), Top left has (0, 0), cornerns_new is a grid of 54 points\n",
    "corners_new = np.array([[x, y] for y in range(corners_int[-1][0][1], corners_int[-1][0][1]+60, 10) for x in range(corners_int[-1][0][0], corners_int[-1][0][0]+90, 10)])\n",
    "print(corners_new)\n",
    "if ret:\n",
    "    cv2.drawChessboardCorners(img, (CHESSBOARD_CORNERS_ROWCOUNT, CHESSBOARD_CORNERS_COLCOUNT), corners, ret)\n",
    "\n",
    "\n",
    "    H, _ = cv2.findHomography(corners, corners_new)\n",
    "    print(H)\n",
    "\n",
    "    img = cv2.warpPerspective(img, H, (img.shape[1], img.shape[0]))\n",
    "    img = cv2.resize(img, (1280, 720))\n",
    "\n",
    "\n",
    "    # Display the result\n",
    "    cv2.imshow('Bird\\'s Eye View', img)\n",
    "    cv2.waitKey(0)\n",
    "    cv2.destroyAllWindows()\n",
    "else:\n",
    "    print(\"Chessboard corners not found.\")"
   ],
   "outputs": [],
   "execution_count": null
  },
  {
   "metadata": {},
   "cell_type": "code",
   "outputs": [],
   "execution_count": null,
   "source": "",
   "id": "95374d0b25d8bea1"
  },
  {
   "metadata": {},
   "cell_type": "code",
   "outputs": [],
   "execution_count": null,
   "source": "",
   "id": "ca62a63b304f688b"
  }
 ],
 "metadata": {
  "kernelspec": {
   "display_name": "Python 3",
   "language": "python",
   "name": "python3"
  },
  "language_info": {
   "codemirror_mode": {
    "name": "ipython",
    "version": 2
   },
   "file_extension": ".py",
   "mimetype": "text/x-python",
   "name": "python",
   "nbconvert_exporter": "python",
   "pygments_lexer": "ipython2",
   "version": "2.7.6"
  }
 },
 "nbformat": 4,
 "nbformat_minor": 5
}
